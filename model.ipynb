# Import data in variable named "Data"
import pandas as pd
df = pd.read_csv("master.csv")
X = df.drop(['H2S','CO2','N2','C1','C2','C3','C4','C5','C6','C7+','MMP(psi)'], axis = 1)
X.head()

from pandas import read_csv
from keras.models import Sequential
from keras.layers import Dense
from keras.wrappers.scikit_learn import KerasRegressor
from sklearn.model_selection import cross_val_score
from sklearn.model_selection import KFold
from sklearn.pipeline import Pipeline
from sklearn.model_selection import train_test_split

def myANN(learning_rate,epo,n1,n2,n3):
  data = pd.read_csv("master.csv")
  #Split into features and target (Price)
  X = data.drop(['H2S','CO2','N2','C1','C2','C3','C4','C5','C6','C7+','MMP(psi)'], axis = 1)
  y = data['MMP(psi)']
  y.head()
  X_train, X_test, y_train, y_test = train_test_split(X, y, test_size = 0.2, random_state = 20)
  #Scale data, otherwise model will fail.
  #Standardize features by removing the mean and scaling to unit variance
  from sklearn.preprocessing import StandardScaler
  scaler=StandardScaler()
  scaler.fit(X_train)
  X_train_scaled = scaler.transform(X_train)
  X_test_scaled = scaler.transform(X_test)
  # define the model
  from tensorflow.keras import optimizers
  #Experiment with deeper and wider networks
  model = Sequential()
  model.add(Dense(n1, input_dim=5, kernel_initializer='normal', activation='relu'))
  model.add(Dense(n2, kernel_initializer='normal', activation='relu'))
  model.add(Dense(n3, kernel_initializer='normal', activation='relu'))
  #Output layer
  model.add(Dense(1, kernel_initializer='normal' ,activation='linear'))
  model.compile(loss='mean_squared_error', optimizer=optimizers.RMSprop(learning_rate), metrics=['mae'])
  model.summary()
  history = model.fit(X_train_scaled, y_train, validation_split=0.2, epochs =epo)
  from matplotlib import pyplot as plt
  #plot the training and validation accuracy and loss at each epoch
  loss = history.history['loss']
  val_loss = history.history['val_loss']
  epochs = range(1, len(loss) + 1)
  plt.plot(epochs, loss, 'y', label='Training loss')
  plt.plot(epochs, val_loss, 'r', label='Validation loss')
  plt.title('Training and validation loss')
  plt.xlabel('Epochs')
  plt.ylabel('Loss')
  plt.legend()
  plt.show()
  #Predict on test data
  predictions = model.predict(X_test_scaled)
  print("Predicted values are: ", predictions)
  print("Real values are: ", y_test)
  print("Predicted values are: ", model.predict(X_train_scaled))
  print("Real values are: ", y_train)
  #Comparison with other models..
  #Neural network - from the current code
  mse_neural, mae_neural = model.evaluate(X_test_scaled, y_test)
  print('Mean squared error from neural net: ', mse_neural)
  print('Mean absolute error from neural net: ', mae_neural)
  
  myANN(0.006,400,12,8,8)
